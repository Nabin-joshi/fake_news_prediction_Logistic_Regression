{
 "cells": [
  {
   "cell_type": "code",
   "execution_count": 77,
   "id": "b71c58ca",
   "metadata": {},
   "outputs": [],
   "source": [
    "import numpy as np\n",
    "import pandas as pd\n",
    "import re\n",
    "from nltk.corpus import stopwords\n",
    "from nltk.stem.porter import PorterStemmer\n",
    "from sklearn.feature_extraction.text import TfidfVectorizer\n",
    "from sklearn.model_selection import train_test_split\n",
    "from sklearn.linear_model import LogisticRegression\n",
    "from sklearn.metrics import accuracy_score"
   ]
  },
  {
   "cell_type": "code",
   "execution_count": 78,
   "id": "74be5707",
   "metadata": {},
   "outputs": [
    {
     "name": "stderr",
     "output_type": "stream",
     "text": [
      "[nltk_data] Downloading package stopwords to\n",
      "[nltk_data]     C:\\Users\\dell\\AppData\\Roaming\\nltk_data...\n",
      "[nltk_data]   Package stopwords is already up-to-date!\n"
     ]
    },
    {
     "data": {
      "text/plain": [
       "True"
      ]
     },
     "execution_count": 78,
     "metadata": {},
     "output_type": "execute_result"
    }
   ],
   "source": [
    "import nltk\n",
    "nltk.download('stopwords')"
   ]
  },
  {
   "cell_type": "code",
   "execution_count": 79,
   "id": "72ae9a1e",
   "metadata": {},
   "outputs": [
    {
     "name": "stdout",
     "output_type": "stream",
     "text": [
      "['i', 'me', 'my', 'myself', 'we', 'our', 'ours', 'ourselves', 'you', \"you're\", \"you've\", \"you'll\", \"you'd\", 'your', 'yours', 'yourself', 'yourselves', 'he', 'him', 'his', 'himself', 'she', \"she's\", 'her', 'hers', 'herself', 'it', \"it's\", 'its', 'itself', 'they', 'them', 'their', 'theirs', 'themselves', 'what', 'which', 'who', 'whom', 'this', 'that', \"that'll\", 'these', 'those', 'am', 'is', 'are', 'was', 'were', 'be', 'been', 'being', 'have', 'has', 'had', 'having', 'do', 'does', 'did', 'doing', 'a', 'an', 'the', 'and', 'but', 'if', 'or', 'because', 'as', 'until', 'while', 'of', 'at', 'by', 'for', 'with', 'about', 'against', 'between', 'into', 'through', 'during', 'before', 'after', 'above', 'below', 'to', 'from', 'up', 'down', 'in', 'out', 'on', 'off', 'over', 'under', 'again', 'further', 'then', 'once', 'here', 'there', 'when', 'where', 'why', 'how', 'all', 'any', 'both', 'each', 'few', 'more', 'most', 'other', 'some', 'such', 'no', 'nor', 'not', 'only', 'own', 'same', 'so', 'than', 'too', 'very', 's', 't', 'can', 'will', 'just', 'don', \"don't\", 'should', \"should've\", 'now', 'd', 'll', 'm', 'o', 're', 've', 'y', 'ain', 'aren', \"aren't\", 'couldn', \"couldn't\", 'didn', \"didn't\", 'doesn', \"doesn't\", 'hadn', \"hadn't\", 'hasn', \"hasn't\", 'haven', \"haven't\", 'isn', \"isn't\", 'ma', 'mightn', \"mightn't\", 'mustn', \"mustn't\", 'needn', \"needn't\", 'shan', \"shan't\", 'shouldn', \"shouldn't\", 'wasn', \"wasn't\", 'weren', \"weren't\", 'won', \"won't\", 'wouldn', \"wouldn't\"]\n"
     ]
    }
   ],
   "source": [
    "#printing the stopwords in English\n",
    "print(stopwords.words('english'))"
   ]
  },
  {
   "cell_type": "code",
   "execution_count": 80,
   "id": "176b28f5",
   "metadata": {},
   "outputs": [],
   "source": [
    "# load the dataset to a pandas\n",
    "news_dataset = pd.read_csv('101.csv',engine='python',encoding='cp1252')"
   ]
  },
  {
   "cell_type": "code",
   "execution_count": 81,
   "id": "599b115d",
   "metadata": {},
   "outputs": [
    {
     "data": {
      "text/plain": [
       "(30, 5)"
      ]
     },
     "execution_count": 81,
     "metadata": {},
     "output_type": "execute_result"
    }
   ],
   "source": [
    "news_dataset.shape"
   ]
  },
  {
   "cell_type": "code",
   "execution_count": 82,
   "id": "f10766ba",
   "metadata": {},
   "outputs": [
    {
     "data": {
      "text/html": [
       "<div>\n",
       "<style scoped>\n",
       "    .dataframe tbody tr th:only-of-type {\n",
       "        vertical-align: middle;\n",
       "    }\n",
       "\n",
       "    .dataframe tbody tr th {\n",
       "        vertical-align: top;\n",
       "    }\n",
       "\n",
       "    .dataframe thead th {\n",
       "        text-align: right;\n",
       "    }\n",
       "</style>\n",
       "<table border=\"1\" class=\"dataframe\">\n",
       "  <thead>\n",
       "    <tr style=\"text-align: right;\">\n",
       "      <th></th>\n",
       "      <th>id</th>\n",
       "      <th>title</th>\n",
       "      <th>author</th>\n",
       "      <th>text</th>\n",
       "      <th>label</th>\n",
       "    </tr>\n",
       "  </thead>\n",
       "  <tbody>\n",
       "    <tr>\n",
       "      <th>0</th>\n",
       "      <td>0</td>\n",
       "      <td>Rotary Club provides 28 different medical equi...</td>\n",
       "      <td>Keshav Adhikari</td>\n",
       "      <td>Dhading Hospital has received ventilators and ...</td>\n",
       "      <td>0</td>\n",
       "    </tr>\n",
       "    <tr>\n",
       "      <th>1</th>\n",
       "      <td>1</td>\n",
       "      <td>New Ambassador of India to Nepal arrives in Ka...</td>\n",
       "      <td>THT Online</td>\n",
       "      <td>Naveen Srivastava, the new Ambassador of India...</td>\n",
       "      <td>0</td>\n",
       "    </tr>\n",
       "    <tr>\n",
       "      <th>2</th>\n",
       "      <td>2</td>\n",
       "      <td>KMC unveils policies, programmes for new fiscal</td>\n",
       "      <td>HIMALAYAN NEWS SERVICE</td>\n",
       "      <td>Kathmandu Metropolitan City has unveiled the p...</td>\n",
       "      <td>0</td>\n",
       "    </tr>\n",
       "    <tr>\n",
       "      <th>3</th>\n",
       "      <td>3</td>\n",
       "      <td>Journalist Rabi Lamichhane announces new polit...</td>\n",
       "      <td>HIMALYAN NEWS SERVICE\\n</td>\n",
       "      <td>Former TV anchor Rabi Lamichhane has announced...</td>\n",
       "      <td>0</td>\n",
       "    </tr>\n",
       "    <tr>\n",
       "      <th>4</th>\n",
       "      <td>4</td>\n",
       "      <td>NOC slashes fuel prices</td>\n",
       "      <td>Himalayan News Service\\n</td>\n",
       "      <td>Offering some respite to the general public gr...</td>\n",
       "      <td>0</td>\n",
       "    </tr>\n",
       "  </tbody>\n",
       "</table>\n",
       "</div>"
      ],
      "text/plain": [
       "   id                                              title  \\\n",
       "0   0  Rotary Club provides 28 different medical equi...   \n",
       "1   1  New Ambassador of India to Nepal arrives in Ka...   \n",
       "2   2    KMC unveils policies, programmes for new fiscal   \n",
       "3   3  Journalist Rabi Lamichhane announces new polit...   \n",
       "4   4                            NOC slashes fuel prices   \n",
       "\n",
       "                     author  \\\n",
       "0           Keshav Adhikari   \n",
       "1                THT Online   \n",
       "2    HIMALAYAN NEWS SERVICE   \n",
       "3   HIMALYAN NEWS SERVICE\\n   \n",
       "4  Himalayan News Service\\n   \n",
       "\n",
       "                                                text  label  \n",
       "0  Dhading Hospital has received ventilators and ...      0  \n",
       "1  Naveen Srivastava, the new Ambassador of India...      0  \n",
       "2  Kathmandu Metropolitan City has unveiled the p...      0  \n",
       "3  Former TV anchor Rabi Lamichhane has announced...      0  \n",
       "4  Offering some respite to the general public gr...      0  "
      ]
     },
     "execution_count": 82,
     "metadata": {},
     "output_type": "execute_result"
    }
   ],
   "source": [
    "# print rows of the data set\n",
    "news_dataset.head()"
   ]
  },
  {
   "cell_type": "code",
   "execution_count": 83,
   "id": "8b89073e",
   "metadata": {},
   "outputs": [
    {
     "data": {
      "text/plain": [
       "id        0\n",
       "title     0\n",
       "author    0\n",
       "text      0\n",
       "label     0\n",
       "dtype: int64"
      ]
     },
     "execution_count": 83,
     "metadata": {},
     "output_type": "execute_result"
    }
   ],
   "source": [
    "#counting the null values\n",
    "news_dataset.isnull().sum()"
   ]
  },
  {
   "cell_type": "code",
   "execution_count": 84,
   "id": "8f60b533",
   "metadata": {},
   "outputs": [],
   "source": [
    "# removing the null values with empty string\n",
    "news_dataset = news_dataset.fillna('')"
   ]
  },
  {
   "cell_type": "code",
   "execution_count": 85,
   "id": "ca71e6f6",
   "metadata": {},
   "outputs": [],
   "source": [
    "# merging the author name and news title\n",
    "news_dataset['content'] = news_dataset['author']+' '+news_dataset['title']"
   ]
  },
  {
   "cell_type": "code",
   "execution_count": 86,
   "id": "35c3a921",
   "metadata": {},
   "outputs": [
    {
     "data": {
      "text/plain": [
       "0     Keshav Adhikari Rotary Club provides 28 differ...\n",
       "1     THT Online New Ambassador of India to Nepal ar...\n",
       "2     HIMALAYAN NEWS SERVICE KMC unveils policies, p...\n",
       "3     HIMALYAN NEWS SERVICE\\n Journalist Rabi Lamich...\n",
       "4      Himalayan News Service\\n NOC slashes fuel prices\n",
       "5     Rastriya Samachar Samiti Karnali Chief Ministe...\n",
       "6     Ashish Dhakal In Kathmandu, Lalitpur and Bhakt...\n",
       "7     Sanjog Shiwakoti KP Sharma Oli wrongly refers ...\n",
       "8     Rastriya Samachar Samiti\\n Nepal struggles wit...\n",
       "9     Injina Panthi Ram Kumari Jhakri’s claim that O...\n",
       "10    South Asia Check Commentator Saurabh  claims a...\n",
       "11    Deepak Adhikari Some Nepali social media users...\n",
       "12    Himalayan News Service Corruption case against...\n",
       "13    Rastriya Samachar Samiti First kidney transpla...\n",
       "14    Binod Ghimire No legal clarity on how long the...\n",
       "15    Onlinekhabar China praises Nepal’s decision to...\n",
       "16    Deepak Adhikari Viral on Nepal social media, ‘...\n",
       "17    Birat Anupam   Itahari designates indigenous T...\n",
       "18    Sanjog Shiwakoti Old photos of foreign fires b...\n",
       "19    TRN Online MC chair Prachanda inquires about h...\n",
       "20    Onlinekhabar High court voids notorious religi...\n",
       "21    The Rising Nepal Only 227 out of 928 libraries...\n",
       "22     Onlinekhabar Govt reduces fuel prices: Petrol...\n",
       "23    Sanjog Shiwakoti ‘TU psychologist’ makes sever...\n",
       "24    Onlinekhabar Cable operators restart broadcast...\n",
       "25       TRN Online Chance of heavy rain in some places\n",
       "26    TRN Online Law minister insists on free and im...\n",
       "27             TRN Online Goma memorial award presented\n",
       "28    Liladhar Oli Ghorahi Freed Kamlaries facing pr...\n",
       "29    Correspondent Gorkha Lack of ward secretaries ...\n",
       "Name: content, dtype: object"
      ]
     },
     "execution_count": 86,
     "metadata": {},
     "output_type": "execute_result"
    }
   ],
   "source": [
    "news_dataset.content"
   ]
  },
  {
   "cell_type": "code",
   "execution_count": 87,
   "id": "ac852bf8",
   "metadata": {},
   "outputs": [],
   "source": [
    "# separating the data & label\n",
    "X = news_dataset.drop(columns='label',axis=1)\n",
    "Y =news_dataset['label']"
   ]
  },
  {
   "cell_type": "code",
   "execution_count": 88,
   "id": "86dd1bce",
   "metadata": {},
   "outputs": [
    {
     "name": "stdout",
     "output_type": "stream",
     "text": [
      "    id                                              title  \\\n",
      "0    0  Rotary Club provides 28 different medical equi...   \n",
      "1    1  New Ambassador of India to Nepal arrives in Ka...   \n",
      "2    2    KMC unveils policies, programmes for new fiscal   \n",
      "3    3  Journalist Rabi Lamichhane announces new polit...   \n",
      "4    4                            NOC slashes fuel prices   \n",
      "5    5  Karnali Chief Minister reaches Mugu to provide...   \n",
      "6    6  In Kathmandu, Lalitpur and Bhaktapur, the pace...   \n",
      "7    7  KP Sharma Oli wrongly refers to little people ...   \n",
      "8    8  Nepal struggles with high adolescent fertility...   \n",
      "9    9  Ram Kumari Jhakri’s claim that Oli didn’t brin...   \n",
      "10  10  Commentator Saurabh  claims a 1958 postage sta...   \n",
      "11  11  Some Nepali social media users shared 5G incre...   \n",
      "12  12  Corruption case against three in Bara's Jitpur...   \n",
      "13  13            First kidney transplantation in Pokhara   \n",
      "14  14  No legal clarity on how long the House of Repr...   \n",
      "15  15  China praises Nepal’s decision to not join US-...   \n",
      "16  16  Viral on Nepal social media, ‘home remedy’ for...   \n",
      "17  17  Itahari designates indigenous Tharu community ...   \n",
      "18  18  Old photos of foreign fires being circulated a...   \n",
      "19  19  MC chair Prachanda inquires about health of ai...   \n",
      "20  20  High court voids notorious religious leader Si...   \n",
      "21  21  Only 227 out of 928 libraries across country o...   \n",
      "22  22  Govt reduces fuel prices: Petrol for Rs 179, d...   \n",
      "23  23  ‘TU psychologist’ makes several false claims i...   \n",
      "24  24  Cable operators restart broadcasting Indian ne...   \n",
      "25  25                Chance of heavy rain in some places   \n",
      "26  26  Law minister insists on free and impartial app...   \n",
      "27  27                      Goma memorial award presented   \n",
      "28  28  Freed Kamlaries facing problem pursuing higher...   \n",
      "29  29  Lack of ward secretaries hampers service deliv...   \n",
      "\n",
      "                        author  \\\n",
      "0              Keshav Adhikari   \n",
      "1                   THT Online   \n",
      "2       HIMALAYAN NEWS SERVICE   \n",
      "3      HIMALYAN NEWS SERVICE\\n   \n",
      "4     Himalayan News Service\\n   \n",
      "5     Rastriya Samachar Samiti   \n",
      "6                Ashish Dhakal   \n",
      "7             Sanjog Shiwakoti   \n",
      "8   Rastriya Samachar Samiti\\n   \n",
      "9                Injina Panthi   \n",
      "10            South Asia Check   \n",
      "11             Deepak Adhikari   \n",
      "12      Himalayan News Service   \n",
      "13    Rastriya Samachar Samiti   \n",
      "14               Binod Ghimire   \n",
      "15                Onlinekhabar   \n",
      "16             Deepak Adhikari   \n",
      "17              Birat Anupam     \n",
      "18            Sanjog Shiwakoti   \n",
      "19                  TRN Online   \n",
      "20                Onlinekhabar   \n",
      "21            The Rising Nepal   \n",
      "22                Onlinekhabar   \n",
      "23            Sanjog Shiwakoti   \n",
      "24                Onlinekhabar   \n",
      "25                  TRN Online   \n",
      "26                  TRN Online   \n",
      "27                  TRN Online   \n",
      "28        Liladhar Oli Ghorahi   \n",
      "29        Correspondent Gorkha   \n",
      "\n",
      "                                                 text  \\\n",
      "0   Dhading Hospital has received ventilators and ...   \n",
      "1   Naveen Srivastava, the new Ambassador of India...   \n",
      "2   Kathmandu Metropolitan City has unveiled the p...   \n",
      "3   Former TV anchor Rabi Lamichhane has announced...   \n",
      "4   Offering some respite to the general public gr...   \n",
      "5   Chief Minister of Karnali province Jeevan Baha...   \n",
      "6   Restoration of monuments damaged in the 2015 e...   \n",
      "7   CPN-UML chairman and former Prime Minister KP ...   \n",
      "8   Fertility rate among adolescents is found to b...   \n",
      "9   Ram Kumari Jhakri, a politician associated wit...   \n",
      "10  Writer and political commentator Saurabh speak...   \n",
      "11  A claim about 5G, which is the fifth generatio...   \n",
      "12  The Commission for the Investigation of Abuse ...   \n",
      "13  Paschimanchal Regional Hospital under the Pokh...   \n",
      "14  The Election Commission said on Friday that it...   \n",
      "15  China has praised Nepal for not joining the Un...   \n",
      "16  As the second wave of the Covid-19 pandemic ra...   \n",
      "17   Itahari's indigenous Tharu community has been...   \n",
      "18  Nepal’s major cities including Kathmandu and P...   \n",
      "19  The political leadership has shown concern ove...   \n",
      "20  The Biratnagar High Court has voided the Sunsa...   \n",
      "21   Of a total of 928 libraries, which were opene...   \n",
      "22  The government of Nepal has once again been fo...   \n",
      "23  The YouTube channel of Himal Online TV on Apri...   \n",
      "24  Cable operators of Kathmandu have decided to r...   \n",
      "25   Heavy rains are expected in some places acros...   \n",
      "26  Minister for Law, Justice and Parliamentary Af...   \n",
      "27  The 'Goma Smriti Samman' presented by Nari Sah...   \n",
      "28  Freed Kamlaries have been facing trouble in pu...   \n",
      "29  Nearly half of 94 wards in Gorkha district do ...   \n",
      "\n",
      "                                              content  \n",
      "0   Keshav Adhikari Rotary Club provides 28 differ...  \n",
      "1   THT Online New Ambassador of India to Nepal ar...  \n",
      "2   HIMALAYAN NEWS SERVICE KMC unveils policies, p...  \n",
      "3   HIMALYAN NEWS SERVICE\\n Journalist Rabi Lamich...  \n",
      "4    Himalayan News Service\\n NOC slashes fuel prices  \n",
      "5   Rastriya Samachar Samiti Karnali Chief Ministe...  \n",
      "6   Ashish Dhakal In Kathmandu, Lalitpur and Bhakt...  \n",
      "7   Sanjog Shiwakoti KP Sharma Oli wrongly refers ...  \n",
      "8   Rastriya Samachar Samiti\\n Nepal struggles wit...  \n",
      "9   Injina Panthi Ram Kumari Jhakri’s claim that O...  \n",
      "10  South Asia Check Commentator Saurabh  claims a...  \n",
      "11  Deepak Adhikari Some Nepali social media users...  \n",
      "12  Himalayan News Service Corruption case against...  \n",
      "13  Rastriya Samachar Samiti First kidney transpla...  \n",
      "14  Binod Ghimire No legal clarity on how long the...  \n",
      "15  Onlinekhabar China praises Nepal’s decision to...  \n",
      "16  Deepak Adhikari Viral on Nepal social media, ‘...  \n",
      "17  Birat Anupam   Itahari designates indigenous T...  \n",
      "18  Sanjog Shiwakoti Old photos of foreign fires b...  \n",
      "19  TRN Online MC chair Prachanda inquires about h...  \n",
      "20  Onlinekhabar High court voids notorious religi...  \n",
      "21  The Rising Nepal Only 227 out of 928 libraries...  \n",
      "22   Onlinekhabar Govt reduces fuel prices: Petrol...  \n",
      "23  Sanjog Shiwakoti ‘TU psychologist’ makes sever...  \n",
      "24  Onlinekhabar Cable operators restart broadcast...  \n",
      "25     TRN Online Chance of heavy rain in some places  \n",
      "26  TRN Online Law minister insists on free and im...  \n",
      "27           TRN Online Goma memorial award presented  \n",
      "28  Liladhar Oli Ghorahi Freed Kamlaries facing pr...  \n",
      "29  Correspondent Gorkha Lack of ward secretaries ...  \n",
      "0     0\n",
      "1     0\n",
      "2     0\n",
      "3     0\n",
      "4     0\n",
      "5     0\n",
      "6     1\n",
      "7     1\n",
      "8     0\n",
      "9     1\n",
      "10    1\n",
      "11    1\n",
      "12    0\n",
      "13    0\n",
      "14    0\n",
      "15    0\n",
      "16    1\n",
      "17    0\n",
      "18    1\n",
      "19    0\n",
      "20    0\n",
      "21    0\n",
      "22    0\n",
      "23    1\n",
      "24    1\n",
      "25    0\n",
      "26    0\n",
      "27    0\n",
      "28    0\n",
      "29    0\n",
      "Name: label, dtype: int64\n"
     ]
    }
   ],
   "source": [
    "print(X)\n",
    "print(Y)"
   ]
  },
  {
   "cell_type": "code",
   "execution_count": 89,
   "id": "7ba6a231",
   "metadata": {},
   "outputs": [],
   "source": [
    "port_stem = PorterStemmer()\n"
   ]
  },
  {
   "cell_type": "code",
   "execution_count": 90,
   "id": "c4b7f60c",
   "metadata": {},
   "outputs": [],
   "source": [
    "def stemming(content):\n",
    "  stemmed_content = re.sub('[^a-zA-z]',' ',content)\n",
    "  stemmed_content = stemmed_content.lower()\n",
    "  stemmed_content = stemmed_content.split()\n",
    "  stemmed_content = [port_stem.stem(word) for word in stemmed_content if not word in stopwords.words('english')]\n",
    "  stemmed_content = ' '.join(stemmed_content)\n",
    "  return stemmed_content"
   ]
  },
  {
   "cell_type": "code",
   "execution_count": 91,
   "id": "117db46e",
   "metadata": {},
   "outputs": [],
   "source": [
    "news_dataset['content'] = news_dataset['content'].apply(stemming)"
   ]
  },
  {
   "cell_type": "code",
   "execution_count": 92,
   "id": "c7a5da48",
   "metadata": {},
   "outputs": [
    {
     "data": {
      "text/plain": [
       "0     keshav adhikari rotari club provid differ medi...\n",
       "1     tht onlin new ambassador india nepal arriv kat...\n",
       "2     himalayan news servic kmc unveil polici progra...\n",
       "3     himalyan news servic journalist rabi lamichhan...\n",
       "4            himalayan news servic noc slash fuel price\n",
       "5     rastriya samachar samiti karnali chief minist ...\n",
       "6     ashish dhakal kathmandu lalitpur bhaktapur pac...\n",
       "7     sanjog shiwakoti kp sharma oli wrongli refer l...\n",
       "8     rastriya samachar samiti nepal struggl high ad...\n",
       "9     injina panthi ram kumari jhakri claim oli brin...\n",
       "10    south asia check comment saurabh claim postag ...\n",
       "11    deepak adhikari nepali social media user share...\n",
       "12    himalayan news servic corrupt case three bara ...\n",
       "13    rastriya samachar samiti first kidney transpla...\n",
       "14    binod ghimir legal clariti long hous repres fu...\n",
       "15    onlinekhabar china prais nepal decis join us l...\n",
       "16    deepak adhikari viral nepal social media home ...\n",
       "17    birat anupam itahari design indigen tharu comm...\n",
       "18    sanjog shiwakoti old photo foreign fire circul...\n",
       "19    trn onlin mc chair prachanda inquir health ail...\n",
       "20    onlinekhabar high court void notori religi lea...\n",
       "21    rise nepal librari across countri oper properl...\n",
       "22    onlinekhabar govt reduc fuel price petrol rs d...\n",
       "23    sanjog shiwakoti tu psychologist make sever fa...\n",
       "24    onlinekhabar cabl oper restart broadcast india...\n",
       "25                     trn onlin chanc heavi rain place\n",
       "26    trn onlin law minist insist free imparti appoi...\n",
       "27                  trn onlin goma memori award present\n",
       "28    liladhar oli ghorahi freed kamlari face proble...\n",
       "29    correspond gorkha lack ward secretari hamper s...\n",
       "Name: content, dtype: object"
      ]
     },
     "execution_count": 92,
     "metadata": {},
     "output_type": "execute_result"
    }
   ],
   "source": [
    "news_dataset['content']"
   ]
  },
  {
   "cell_type": "code",
   "execution_count": 93,
   "id": "5932f6db",
   "metadata": {},
   "outputs": [],
   "source": [
    "#seperating the data and the label\n",
    "X = news_dataset['content'].values\n",
    "Y = news_dataset['label'].values"
   ]
  },
  {
   "cell_type": "code",
   "execution_count": 94,
   "id": "811ec8fe",
   "metadata": {},
   "outputs": [
    {
     "name": "stdout",
     "output_type": "stream",
     "text": [
      "['keshav adhikari rotari club provid differ medic equip dhade hospit'\n",
      " 'tht onlin new ambassador india nepal arriv kathmandu saturday'\n",
      " 'himalayan news servic kmc unveil polici programm new fiscal'\n",
      " 'himalyan news servic journalist rabi lamichhan announc new polit parti'\n",
      " 'himalayan news servic noc slash fuel price'\n",
      " 'rastriya samachar samiti karnali chief minist reach mugu provid relief fire victim'\n",
      " 'ashish dhakal kathmandu lalitpur bhaktapur pace authent post heritag restor differ'\n",
      " 'sanjog shiwakoti kp sharma oli wrongli refer littl peopl africa lilliput'\n",
      " 'rastriya samachar samiti nepal struggl high adolesc fertil rate'\n",
      " 'injina panthi ram kumari jhakri claim oli bring covid vaccin'\n",
      " 'south asia check comment saurabh claim postag stamp pointi map nepal'\n",
      " 'deepak adhikari nepali social media user share g increas covid case'\n",
      " 'himalayan news servic corrupt case three bara jitpursimara'\n",
      " 'rastriya samachar samiti first kidney transplant pokhara'\n",
      " 'binod ghimir legal clariti long hous repres function elect date announc'\n",
      " 'onlinekhabar china prais nepal decis join us led spp'\n",
      " 'deepak adhikari viral nepal social media home remedi boost blood oxygen level found'\n",
      " 'birat anupam itahari design indigen tharu commun first citizen'\n",
      " 'sanjog shiwakoti old photo foreign fire circul nepal wildfir photo'\n",
      " 'trn onlin mc chair prachanda inquir health ail mountain'\n",
      " 'onlinekhabar high court void notori religi leader siddhababa rape charg acquitt'\n",
      " 'rise nepal librari across countri oper properli report'\n",
      " 'onlinekhabar govt reduc fuel price petrol rs diesel kerosen rs'\n",
      " 'sanjog shiwakoti tu psychologist make sever fals claim popular youtub interview'\n",
      " 'onlinekhabar cabl oper restart broadcast indian news channel except four'\n",
      " 'trn onlin chanc heavi rain place'\n",
      " 'trn onlin law minist insist free imparti appoint judiciari'\n",
      " 'trn onlin goma memori award present'\n",
      " 'liladhar oli ghorahi freed kamlari face problem pursu higher educ'\n",
      " 'correspond gorkha lack ward secretari hamper servic deliveri local level']\n",
      "[0 0 0 0 0 0 1 1 0 1 1 1 0 0 0 0 1 0 1 0 0 0 0 1 1 0 0 0 0 0]\n"
     ]
    }
   ],
   "source": [
    " print(X)\n",
    " print(Y)"
   ]
  },
  {
   "cell_type": "code",
   "execution_count": 95,
   "id": "a0332c77",
   "metadata": {},
   "outputs": [
    {
     "data": {
      "text/plain": [
       "(30,)"
      ]
     },
     "execution_count": 95,
     "metadata": {},
     "output_type": "execute_result"
    }
   ],
   "source": [
    "X.shape"
   ]
  },
  {
   "cell_type": "code",
   "execution_count": 96,
   "id": "ea7784d8",
   "metadata": {},
   "outputs": [
    {
     "data": {
      "text/plain": [
       "(30,)"
      ]
     },
     "execution_count": 96,
     "metadata": {},
     "output_type": "execute_result"
    }
   ],
   "source": [
    "Y.shape"
   ]
  },
  {
   "cell_type": "code",
   "execution_count": 97,
   "id": "4b9e4293",
   "metadata": {},
   "outputs": [],
   "source": [
    "#converting the textual data to numerical data\n",
    "vectorizer = TfidfVectorizer()\n",
    "vectorizer.fit(X)\n",
    "\n",
    "X = vectorizer.transform(X)"
   ]
  },
  {
   "cell_type": "code",
   "execution_count": 98,
   "id": "407dcbdb",
   "metadata": {},
   "outputs": [
    {
     "name": "stdout",
     "output_type": "stream",
     "text": [
      "  (0, 186)\t0.3287324038512732\n",
      "  (0, 166)\t0.2931014977409513\n",
      "  (0, 128)\t0.3287324038512732\n",
      "  (0, 105)\t0.3287324038512732\n",
      "  (0, 84)\t0.3287324038512732\n",
      "  (0, 55)\t0.3287324038512732\n",
      "  (0, 52)\t0.2931014977409513\n",
      "  (0, 49)\t0.3287324038512732\n",
      "  (0, 36)\t0.3287324038512732\n",
      "  (0, 2)\t0.26782096753459433\n",
      "  (1, 208)\t0.3687609495720031\n",
      "  (1, 191)\t0.3687609495720031\n",
      "  (1, 141)\t0.26046299825901637\n",
      "  (1, 135)\t0.30043254983780665\n",
      "  (1, 133)\t0.2321041501036102\n",
      "  (1, 103)\t0.3287913979932128\n",
      "  (1, 88)\t0.3687609495720031\n",
      "  (1, 10)\t0.3687609495720031\n",
      "  (1, 6)\t0.3687609495720031\n",
      "  (2, 212)\t0.3694775867210055\n",
      "  (2, 194)\t0.26096917295215993\n",
      "  (2, 164)\t0.3694775867210055\n",
      "  (2, 154)\t0.3694775867210055\n",
      "  (2, 136)\t0.26096917295215993\n",
      "  (2, 135)\t0.301016399961398\n",
      "  :\t:\n",
      "  (27, 161)\t0.44415944657017076\n",
      "  (27, 141)\t0.3137184164782159\n",
      "  (27, 129)\t0.44415944657017076\n",
      "  (27, 72)\t0.44415944657017076\n",
      "  (27, 14)\t0.44415944657017076\n",
      "  (28, 168)\t0.3216823043466742\n",
      "  (28, 163)\t0.3216823043466742\n",
      "  (28, 140)\t0.2620771940324509\n",
      "  (28, 119)\t0.3216823043466742\n",
      "  (28, 101)\t0.3216823043466742\n",
      "  (28, 80)\t0.3216823043466742\n",
      "  (28, 71)\t0.3216823043466742\n",
      "  (28, 67)\t0.3216823043466742\n",
      "  (28, 57)\t0.3216823043466742\n",
      "  (28, 53)\t0.3216823043466742\n",
      "  (29, 219)\t0.3280212604500315\n",
      "  (29, 194)\t0.23168776707153657\n",
      "  (29, 193)\t0.3280212604500315\n",
      "  (29, 122)\t0.3280212604500315\n",
      "  (29, 117)\t0.292467434309508\n",
      "  (29, 110)\t0.3280212604500315\n",
      "  (29, 75)\t0.3280212604500315\n",
      "  (29, 73)\t0.3280212604500315\n",
      "  (29, 47)\t0.3280212604500315\n",
      "  (29, 39)\t0.3280212604500315\n"
     ]
    }
   ],
   "source": [
    "print(X)\n"
   ]
  },
  {
   "cell_type": "code",
   "execution_count": 99,
   "id": "958c8084",
   "metadata": {},
   "outputs": [],
   "source": [
    "X_train,X_test,Y_train,Y_test = train_test_split(X,Y,test_size=0.5,stratify=Y,random_state=2)"
   ]
  },
  {
   "cell_type": "code",
   "execution_count": 100,
   "id": "eeff2693",
   "metadata": {},
   "outputs": [],
   "source": [
    "model = LogisticRegression()"
   ]
  },
  {
   "cell_type": "code",
   "execution_count": 101,
   "id": "ab812145",
   "metadata": {},
   "outputs": [
    {
     "data": {
      "text/plain": [
       "LogisticRegression()"
      ]
     },
     "execution_count": 101,
     "metadata": {},
     "output_type": "execute_result"
    }
   ],
   "source": [
    "model.fit(X_train,Y_train)"
   ]
  },
  {
   "cell_type": "code",
   "execution_count": 102,
   "id": "9cd70155",
   "metadata": {},
   "outputs": [],
   "source": [
    "# accuracy score on the training data\n",
    "X_train_prediction = model.predict(X_train)\n",
    "training_data_accuracy = accuracy_score(X_train_prediction,Y_train)"
   ]
  },
  {
   "cell_type": "code",
   "execution_count": 103,
   "id": "df84b565",
   "metadata": {},
   "outputs": [
    {
     "data": {
      "text/plain": [
       "0.6666666666666666"
      ]
     },
     "execution_count": 103,
     "metadata": {},
     "output_type": "execute_result"
    }
   ],
   "source": [
    "training_data_accuracy"
   ]
  },
  {
   "cell_type": "code",
   "execution_count": 104,
   "id": "1376ef5d",
   "metadata": {},
   "outputs": [],
   "source": [
    "X_test_prediction = model.predict(X_test)\n",
    "testing_data_accuracy = accuracy_score(X_test_prediction,Y_test)"
   ]
  },
  {
   "cell_type": "code",
   "execution_count": 105,
   "id": "b7232a9d",
   "metadata": {},
   "outputs": [
    {
     "data": {
      "text/plain": [
       "0.7333333333333333"
      ]
     },
     "execution_count": 105,
     "metadata": {},
     "output_type": "execute_result"
    }
   ],
   "source": [
    "testing_data_accuracy"
   ]
  },
  {
   "cell_type": "code",
   "execution_count": 111,
   "id": "af016680",
   "metadata": {},
   "outputs": [
    {
     "name": "stdout",
     "output_type": "stream",
     "text": [
      "[0]\n",
      "The news is real\n"
     ]
    }
   ],
   "source": [
    "X_new = X_test[0]\n",
    "\n",
    "prediction = model.predict(X_new)\n",
    "print(prediction)\n",
    "\n",
    "if(prediction[0]==0):\n",
    "  print('The news is real')\n",
    "else:\n",
    "  print('The news is Fake')"
   ]
  },
  {
   "cell_type": "code",
   "execution_count": 107,
   "id": "ee26586a",
   "metadata": {},
   "outputs": [
    {
     "name": "stdout",
     "output_type": "stream",
     "text": [
      "0\n"
     ]
    }
   ],
   "source": [
    "print(Y_test[0])"
   ]
  },
  {
   "cell_type": "code",
   "execution_count": null,
   "id": "dc86444c",
   "metadata": {},
   "outputs": [],
   "source": []
  },
  {
   "cell_type": "code",
   "execution_count": null,
   "id": "a0c2edda",
   "metadata": {},
   "outputs": [],
   "source": []
  }
 ],
 "metadata": {
  "kernelspec": {
   "display_name": "Python 3 (ipykernel)",
   "language": "python",
   "name": "python3"
  },
  "language_info": {
   "codemirror_mode": {
    "name": "ipython",
    "version": 3
   },
   "file_extension": ".py",
   "mimetype": "text/x-python",
   "name": "python",
   "nbconvert_exporter": "python",
   "pygments_lexer": "ipython3",
   "version": "3.9.12"
  }
 },
 "nbformat": 4,
 "nbformat_minor": 5
}
